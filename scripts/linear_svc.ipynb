{
 "cells": [
  {
   "cell_type": "code",
   "execution_count": 2,
   "id": "2ba7fee6",
   "metadata": {},
   "outputs": [],
   "source": [
    "import pandas as pd\n",
    "import numpy as np\n",
    "import os\n",
    "import regex as re\n",
    "import matplotlib.pyplot as plt\n",
    "\n",
    "from sklearn.metrics import accuracy_score\n",
    "from sklearn.feature_extraction.text import TfidfVectorizer\n",
    "from sklearn.decomposition import TruncatedSVD\n",
    "from sklearn.model_selection import train_test_split\n",
    "from sklearn.datasets import make_blobs\n",
    "from sklearn.ensemble import RandomForestClassifier\n",
    "from sklearn.ensemble import ExtraTreesClassifier\n",
    "from sklearn.model_selection import cross_val_score\n",
    "from sklearn.svm import LinearSVC\n",
    "from sklearn.svm import SVC\n",
    "from sklearn.experimental import enable_halving_search_cv\n",
    "from sklearn.model_selection import HalvingGridSearchCV"
   ]
  },
  {
   "cell_type": "code",
   "execution_count": 4,
   "id": "9d889500",
   "metadata": {},
   "outputs": [
    {
     "name": "stderr",
     "output_type": "stream",
     "text": [
      "/tmp/ipykernel_74220/1971789257.py:4: FutureWarning: The default value of regex will change from True to False in a future version.\n",
      "  df['text'] = df['text'].str.replace(\"\\[.*?\\]\", \"\")\n",
      "/tmp/ipykernel_74220/1971789257.py:5: FutureWarning: The default value of regex will change from True to False in a future version.\n",
      "  df['text'] = df['text'].str.replace(\"({|})+\", \"\")\n",
      "/tmp/ipykernel_74220/1971789257.py:6: FutureWarning: The default value of regex will change from True to False in a future version.\n",
      "  df['text'] = df['text'].str.replace(\"https?://S+|www\\.\\S+\", \"\")\n"
     ]
    }
   ],
   "source": [
    "df = pd.read_csv(\"../insects_or_not.csv\")\n",
    "df['text'] = df['text'].str.lower()\n",
    "df['text'] = df['text'].str.replace(\"\\n\", \"\")\n",
    "df['text'] = df['text'].str.replace(\"\\[.*?\\]\", \"\")\n",
    "df['text'] = df['text'].str.replace(\"({|})+\", \"\")\n",
    "df['text'] = df['text'].str.replace(\"https?://S+|www\\.\\S+\", \"\")\n",
    "# tfidf\n",
    "vec = TfidfVectorizer()\n",
    "x = vec.fit_transform(df['text'])"
   ]
  },
  {
   "cell_type": "code",
   "execution_count": 5,
   "id": "65e7bc6f",
   "metadata": {},
   "outputs": [],
   "source": [
    "# svd (réduction de données)\n",
    "svd = TruncatedSVD(n_components=100)\n",
    "res = svd.fit_transform(x)\n",
    "#print(svd.explained_variance_)\n",
    "# res.shape = (221, 100)"
   ]
  },
  {
   "cell_type": "code",
   "execution_count": 72,
   "id": "84eaffdd",
   "metadata": {},
   "outputs": [],
   "source": [
    "# prep data\n",
    "X = res\n",
    "y = df[\"label\"]\n",
    "X_train, X_test, y_train, y_test = train_test_split(X, y, test_size=0.30)"
   ]
  },
  {
   "cell_type": "code",
   "execution_count": 73,
   "id": "503b42b2",
   "metadata": {},
   "outputs": [],
   "source": [
    "#clf = RandomForestClassifier(max_depth=7, max_features=\"log2\", min_samples_split=10, n_estimators=500)\n",
    "clf = LinearSVC(C=1.0, tol=0.001, random_state=42, loss=\"hinge\")"
   ]
  },
  {
   "cell_type": "code",
   "execution_count": 74,
   "id": "0732299d",
   "metadata": {},
   "outputs": [],
   "source": [
    "clf = clf.fit(X_train, y_train)\n",
    "y_pred = clf.predict(X_test)"
   ]
  },
  {
   "cell_type": "code",
   "execution_count": 75,
   "id": "b7127f26",
   "metadata": {},
   "outputs": [
    {
     "name": "stdout",
     "output_type": "stream",
     "text": [
      "              precision    recall  f1-score   support\n",
      "\n",
      "     insects       0.91      1.00      0.95        29\n",
      " non-insects       1.00      0.92      0.96        38\n",
      "\n",
      "    accuracy                           0.96        67\n",
      "   macro avg       0.95      0.96      0.95        67\n",
      "weighted avg       0.96      0.96      0.96        67\n",
      "\n"
     ]
    },
    {
     "data": {
      "image/png": "[encoded data removed]",
      "text/plain": [
       "<Figure size 640x480 with 2 Axes>"
      ]
     },
     "metadata": {},
     "output_type": "display_data"
    }
   ],
   "source": [
    "from sklearn.metrics import classification_report, confusion_matrix\n",
    "import seaborn as sns\n",
    "\n",
    "cm = confusion_matrix(y_test,y_pred)\n",
    "c_matrix = sns.heatmap(cm, annot=True, fmt='d', xticklabels=[\"insects\",\"non-insects\"], yticklabels=[\"insects\",\"non-insects\"]).set_title('Confusion matrix of linear SVM') # fmt='d' formats the numbers as digits, which means integers\n",
    "plt.title(\"Confusion matrix of LinearSVC\")\n",
    "print(classification_report(y_test,y_pred))"
   ]
  },
  {
   "cell_type": "code",
   "execution_count": 77,
   "id": "8cf7bf01",
   "metadata": {},
   "outputs": [],
   "source": [
    "matrix_fig = c_matrix.get_figure()\n",
    "matrix_fig.savefig(\"confusion_matrix.png\")"
   ]
  },
  {
   "cell_type": "code",
   "execution_count": 76,
   "id": "736926d9",
   "metadata": {},
   "outputs": [
    {
     "name": "stdout",
     "output_type": "stream",
     "text": [
      "0.9552238805970149\n"
     ]
    }
   ],
   "source": [
    "accuracy = accuracy_score(y_test, y_pred)\n",
    "print(accuracy)"
   ]
  },
  {
   "cell_type": "code",
   "execution_count": 191,
   "id": "9ae37ed0",
   "metadata": {},
   "outputs": [],
   "source": [
    "params = {\n",
    "    \"penalty\":[\"l2\"],\n",
    "    \"loss\":[\"squared_hinge\", \"hinge\"],\n",
    "    \"max_iter\": np.arange(400, 1200, 100),\n",
    "    \"C\": np.arange(0.1, 0.5, 0.05)\n",
    "\n",
    "}"
   ]
  },
  {
   "cell_type": "code",
   "execution_count": 192,
   "id": "7a2b2680",
   "metadata": {},
   "outputs": [],
   "source": [
    "search = HalvingGridSearchCV(clf, params, resource='n_samples',\n",
    "                             factor=2,\n",
    "                             random_state=0,\n",
    "                            n_jobs=-1).fit(X, y)"
   ]
  },
  {
   "cell_type": "code",
   "execution_count": 78,
   "id": "1f6f24b9",
   "metadata": {},
   "outputs": [
    {
     "ename": "NameError",
     "evalue": "name 'search' is not defined",
     "output_type": "error",
     "traceback": [
      "\u001b[0;31m---------------------------------------------------------------------------\u001b[0m",
      "\u001b[0;31mNameError\u001b[0m                                 Traceback (most recent call last)",
      "Cell \u001b[0;32mIn[78], line 1\u001b[0m\n\u001b[0;32m----> 1\u001b[0m \u001b[43msearch\u001b[49m\u001b[38;5;241m.\u001b[39mbest_estimator_\n",
      "\u001b[0;31mNameError\u001b[0m: name 'search' is not defined"
     ]
    }
   ],
   "source": [
    "search.best_estimator_"
   ]
  },
  {
   "cell_type": "code",
   "execution_count": 194,
   "id": "e1d35fea",
   "metadata": {},
   "outputs": [],
   "source": [
    "best_clf = search.best_estimator_\n",
    "#best_clf = best_clf.fit(X_train, y_train)\n",
    "y_pred = best_clf.predict(X_test)"
   ]
  },
  {
   "cell_type": "code",
   "execution_count": 195,
   "id": "04ee1fdd",
   "metadata": {
    "scrolled": true
   },
   "outputs": [
    {
     "name": "stdout",
     "output_type": "stream",
     "text": [
      "LinearSVC(C=0.20000000000000004, max_iter=1100)\n"
     ]
    }
   ],
   "source": [
    "print(search.best_estimator_)"
   ]
  },
  {
   "cell_type": "code",
   "execution_count": 196,
   "id": "3429a40d",
   "metadata": {},
   "outputs": [
    {
     "name": "stdout",
     "output_type": "stream",
     "text": [
      "0.8656716417910447\n"
     ]
    }
   ],
   "source": [
    "accuracy = accuracy_score(y_test, y_pred)\n",
    "print(accuracy)"
   ]
  }
 ],
 "metadata": {
  "kernelspec": {
   "display_name": "Python 3 (ipykernel)",
   "language": "python",
   "name": "python3"
  },
  "language_info": {
   "codemirror_mode": {
    "name": "ipython",
    "version": 3
   },
   "file_extension": ".py",
   "mimetype": "text/x-python",
   "name": "python",
   "nbconvert_exporter": "python",
   "pygments_lexer": "ipython3",
   "version": "3.10.6"
  }
 },
 "nbformat": 4,
 "nbformat_minor": 5
}
